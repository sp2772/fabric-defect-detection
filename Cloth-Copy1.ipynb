{
 "cells": [
  {
   "cell_type": "code",
   "execution_count": 2,
   "id": "c7a9f6da-7c29-4060-97f8-86d9412db298",
   "metadata": {
    "scrolled": true
   },
   "outputs": [
    {
     "name": "stderr",
     "output_type": "stream",
     "text": [
      "2025-01-17 18:29:16.922663: I tensorflow/core/util/port.cc:153] oneDNN custom operations are on. You may see slightly different numerical results due to floating-point round-off errors from different computation orders. To turn them off, set the environment variable `TF_ENABLE_ONEDNN_OPTS=0`.\n",
      "2025-01-17 18:29:18.647123: E external/local_xla/xla/stream_executor/cuda/cuda_fft.cc:477] Unable to register cuFFT factory: Attempting to register factory for plugin cuFFT when one has already been registered\n",
      "WARNING: All log messages before absl::InitializeLog() is called are written to STDERR\n",
      "E0000 00:00:1737138559.537595  127250 cuda_dnn.cc:8310] Unable to register cuDNN factory: Attempting to register factory for plugin cuDNN when one has already been registered\n",
      "E0000 00:00:1737138559.777937  127250 cuda_blas.cc:1418] Unable to register cuBLAS factory: Attempting to register factory for plugin cuBLAS when one has already been registered\n",
      "2025-01-17 18:29:21.549932: I tensorflow/core/platform/cpu_feature_guard.cc:210] This TensorFlow binary is optimized to use available CPU instructions in performance-critical operations.\n",
      "To enable the following instructions: AVX2 AVX_VNNI FMA, in other operations, rebuild TensorFlow with the appropriate compiler flags.\n"
     ]
    }
   ],
   "source": [
    "import tensorflow as tf\n"
   ]
  },
  {
   "cell_type": "code",
   "execution_count": 3,
   "id": "23ebb272-a70c-4a88-b6f7-b71a57fb8ce2",
   "metadata": {},
   "outputs": [
    {
     "data": {
      "text/plain": [
       "[PhysicalDevice(name='/physical_device:CPU:0', device_type='CPU'),\n",
       " PhysicalDevice(name='/physical_device:GPU:0', device_type='GPU')]"
      ]
     },
     "execution_count": 3,
     "metadata": {},
     "output_type": "execute_result"
    }
   ],
   "source": [
    "tf.config.list_physical_devices()"
   ]
  },
  {
   "cell_type": "code",
   "execution_count": 4,
   "id": "4196ee3e-db25-477d-be46-cef071835b12",
   "metadata": {},
   "outputs": [],
   "source": [
    "from tensorflow.keras.preprocessing.image import ImageDataGenerator"
   ]
  },
  {
   "cell_type": "code",
   "execution_count": 5,
   "id": "ee313a3f-3416-4188-bb68-0f60be5810ac",
   "metadata": {},
   "outputs": [],
   "source": [
    "#train_datagen= ImageDataGenerator(rescale=1./255,shear_range=0.1,zoom_range=0.1,horizontal_flip=True)\n",
    "train_datagen = ImageDataGenerator(\n",
    "    rescale=1.0 / 255,\n",
    "    shear_range=0.2,\n",
    "    zoom_range=0.2,\n",
    "    rotation_range=30,  # Increased rotation range\n",
    "    horizontal_flip=True,\n",
    "    vertical_flip=True,  # Add vertical flipping\n",
    "    width_shift_range=0.2,  # Horizontal shifts\n",
    "    height_shift_range=0.2,  # Vertical shifts\n",
    "    brightness_range=[0.8, 1.2],  # Brightness variations\n",
    "    fill_mode='nearest'\n",
    ")"
   ]
  },
  {
   "cell_type": "code",
   "execution_count": 6,
   "id": "c06d4593-3a5c-4209-a38d-789d2ba5a71c",
   "metadata": {},
   "outputs": [
    {
     "name": "stdout",
     "output_type": "stream",
     "text": [
      "Found 202 images belonging to 2 classes.\n"
     ]
    }
   ],
   "source": [
    "train_set= train_datagen.flow_from_directory(\"/mnt/c/MyEverything/PythonProjects/Recent_projects/cnn_analysis/MiniProjectCNN/Dataset/train\", \n",
    "                                             target_size =(100,100),batch_size=1,class_mode='binary')"
   ]
  },
  {
   "cell_type": "code",
   "execution_count": 7,
   "id": "73a3d64d-e2d1-43a4-840b-20a2b729a8fb",
   "metadata": {},
   "outputs": [
    {
     "name": "stdout",
     "output_type": "stream",
     "text": [
      "Found 44 images belonging to 2 classes.\n"
     ]
    }
   ],
   "source": [
    "test_datagen= ImageDataGenerator(rescale=1./255)\n",
    "test_set= test_datagen.flow_from_directory(\"/mnt/c/MyEverything/PythonProjects/Recent_projects/cnn_analysis/MiniProjectCNN/Dataset/test\", \n",
    "                                           target_size= (100,100), batch_size = 1, class_mode = 'binary')\n"
   ]
  },
  {
   "cell_type": "code",
   "execution_count": 8,
   "id": "9bb2b442-cfaa-4281-8056-d6435dd2c9f0",
   "metadata": {},
   "outputs": [],
   "source": [
    "cnn = tf.keras.models.Sequential()"
   ]
  },
  {
   "cell_type": "code",
   "execution_count": 9,
   "id": "0668d590-cba5-4367-a944-8437d27760a1",
   "metadata": {},
   "outputs": [
    {
     "name": "stderr",
     "output_type": "stream",
     "text": [
      "/mnt/c/Windows/system32/tf_env/lib/python3.12/site-packages/keras/src/layers/convolutional/base_conv.py:107: UserWarning: Do not pass an `input_shape`/`input_dim` argument to a layer. When using Sequential models, prefer using an `Input(shape)` object as the first layer in the model instead.\n",
      "  super().__init__(activity_regularizer=activity_regularizer, **kwargs)\n",
      "I0000 00:00:1737138600.311711  127250 gpu_device.cc:2022] Created device /job:localhost/replica:0/task:0/device:GPU:0 with 842 MB memory:  -> device: 0, name: NVIDIA GeForce RTX 3050 6GB Laptop GPU, pci bus id: 0000:01:00.0, compute capability: 8.6\n"
     ]
    }
   ],
   "source": [
    "# First Convolutional Block\n",
    "cnn.add(tf.keras.layers.Conv2D(filters=64, kernel_size=5, activation='relu', input_shape=[100, 100, 3]))\n",
    "cnn.add(tf.keras.layers.BatchNormalization())  # Batch Normalization after Conv layer\n",
    "cnn.add(tf.keras.layers.MaxPool2D(pool_size=2, strides=2))\n",
    "cnn.add(tf.keras.layers.Dropout(0.25))  # Dropout after pooling to reduce overfitting\n",
    "\n",
    "# Second Convolutional Block\n",
    "cnn.add(tf.keras.layers.Conv2D(filters=128, kernel_size=3, activation='relu'))  # Increased filters\n",
    "cnn.add(tf.keras.layers.BatchNormalization())  # Batch Normalization\n",
    "cnn.add(tf.keras.layers.MaxPool2D(pool_size=2, strides=2))\n",
    "cnn.add(tf.keras.layers.Dropout(0.25))  # Dropout after pooling\n",
    "\n",
    "# Third Convolutional Block\n",
    "cnn.add(tf.keras.layers.Conv2D(filters=256, kernel_size=3, activation='relu'))  # Added another block\n",
    "cnn.add(tf.keras.layers.BatchNormalization())\n",
    "cnn.add(tf.keras.layers.MaxPool2D(pool_size=2, strides=2))\n",
    "cnn.add(tf.keras.layers.Dropout(0.25))\n",
    "\n",
    "# Flatten Layer\n",
    "cnn.add(tf.keras.layers.Flatten())\n",
    "\n",
    "# Fully Connected Dense Layers\n",
    "cnn.add(tf.keras.layers.Dense(units=128, activation='relu'))\n",
    "cnn.add(tf.keras.layers.BatchNormalization())  # Batch Normalization in Dense layer\n",
    "cnn.add(tf.keras.layers.Dropout(0.5))  # Higher Dropout rate for Dense layer\n",
    "\n",
    "cnn.add(tf.keras.layers.Dense(units=128, activation='relu'))\n",
    "cnn.add(tf.keras.layers.BatchNormalization())  # Batch Normalization in Dense layer\n",
    "cnn.add(tf.keras.layers.Dropout(0.5))\n",
    "\n",
    "# Output Layer\n",
    "cnn.add(tf.keras.layers.Dense(units=1, activation='sigmoid'))"
   ]
  },
  {
   "cell_type": "code",
   "execution_count": 10,
   "id": "ea43859e-1217-4a0c-a8f6-8d198bd8508b",
   "metadata": {},
   "outputs": [],
   "source": [
    "cnn.compile(optimizer=tf.keras.optimizers.Adam(learning_rate=0.0001), loss='binary_crossentropy', metrics=['accuracy'])"
   ]
  },
  {
   "cell_type": "code",
   "execution_count": 11,
   "id": "f73372e6-0f0b-4b51-a6d7-75329d2c9948",
   "metadata": {},
   "outputs": [
    {
     "name": "stdout",
     "output_type": "stream",
     "text": [
      "Class Indices: {'Defect_images': 0, 'NODefect_images': 1}\n",
      "Number of Classes: 2\n",
      "Number of Classes: 2\n",
      "Model Output Shape: (None, 1)\n",
      "Counter({1: 116, 0: 86})\n"
     ]
    }
   ],
   "source": [
    "print(\"Class Indices:\", train_set.class_indices)\n",
    "print(\"Number of Classes:\", train_set.num_classes)\n",
    "print(\"Number of Classes:\", test_set.num_classes)\n",
    "print(\"Model Output Shape:\", cnn.output_shape)\n",
    "from collections import Counter\n",
    "print(Counter(train_set.classes))"
   ]
  },
  {
   "cell_type": "code",
   "execution_count": 12,
   "id": "07f04bc7-229f-4368-ba85-de18a44d3f0a",
   "metadata": {},
   "outputs": [
    {
     "name": "stderr",
     "output_type": "stream",
     "text": [
      "/mnt/c/Windows/system32/tf_env/lib/python3.12/site-packages/keras/src/trainers/data_adapters/py_dataset_adapter.py:121: UserWarning: Your `PyDataset` class should call `super().__init__(**kwargs)` in its constructor. `**kwargs` can include `workers`, `use_multiprocessing`, `max_queue_size`. Do not pass these arguments to `fit()`, as they will be ignored.\n",
      "  self._warn_if_super_not_called()\n"
     ]
    },
    {
     "name": "stdout",
     "output_type": "stream",
     "text": [
      "Epoch 1/50\n"
     ]
    },
    {
     "name": "stderr",
     "output_type": "stream",
     "text": [
      "WARNING: All log messages before absl::InitializeLog() is called are written to STDERR\n",
      "I0000 00:00:1737138604.236165  127470 service.cc:148] XLA service 0x7f80380170c0 initialized for platform CUDA (this does not guarantee that XLA will be used). Devices:\n",
      "I0000 00:00:1737138604.236203  127470 service.cc:156]   StreamExecutor device (0): NVIDIA GeForce RTX 3050 6GB Laptop GPU, Compute Capability 8.6\n",
      "2025-01-17 18:30:04.281046: I tensorflow/compiler/mlir/tensorflow/utils/dump_mlir_util.cc:268] disabling MLIR crash reproducer, set env var `MLIR_CRASH_REPRODUCER_DIRECTORY` to enable.\n",
      "I0000 00:00:1737138604.563034  127470 cuda_dnn.cc:529] Loaded cuDNN version 90300\n"
     ]
    },
    {
     "name": "stdout",
     "output_type": "stream",
     "text": [
      "\u001b[1m  9/202\u001b[0m \u001b[37m━━━━━━━━━━━━━━━━━━━━\u001b[0m \u001b[1m3s\u001b[0m 17ms/step - accuracy: 0.3873 - loss: 0.6931     "
     ]
    },
    {
     "name": "stderr",
     "output_type": "stream",
     "text": [
      "I0000 00:00:1737138609.368446  127470 device_compiler.h:188] Compiled cluster using XLA!  This line is logged at most once for the lifetime of the process.\n"
     ]
    },
    {
     "name": "stdout",
     "output_type": "stream",
     "text": [
      "\u001b[1m201/202\u001b[0m \u001b[32m━━━━━━━━━━━━━━━━━━━\u001b[0m\u001b[37m━\u001b[0m \u001b[1m0s\u001b[0m 17ms/step - accuracy: 0.5542 - loss: 0.6927"
     ]
    },
    {
     "name": "stderr",
     "output_type": "stream",
     "text": [
      "/mnt/c/Windows/system32/tf_env/lib/python3.12/site-packages/keras/src/trainers/data_adapters/py_dataset_adapter.py:121: UserWarning: Your `PyDataset` class should call `super().__init__(**kwargs)` in its constructor. `**kwargs` can include `workers`, `use_multiprocessing`, `max_queue_size`. Do not pass these arguments to `fit()`, as they will be ignored.\n",
      "  self._warn_if_super_not_called()\n"
     ]
    },
    {
     "name": "stdout",
     "output_type": "stream",
     "text": [
      "\u001b[1m202/202\u001b[0m \u001b[32m━━━━━━━━━━━━━━━━━━━━\u001b[0m\u001b[37m\u001b[0m \u001b[1m12s\u001b[0m 25ms/step - accuracy: 0.5544 - loss: 0.6927 - val_accuracy: 0.4318 - val_loss: 5.1081\n",
      "Epoch 2/50\n",
      "\u001b[1m202/202\u001b[0m \u001b[32m━━━━━━━━━━━━━━━━━━━━\u001b[0m\u001b[37m\u001b[0m \u001b[1m3s\u001b[0m 17ms/step - accuracy: 0.6064 - loss: 0.6892 - val_accuracy: 0.4318 - val_loss: 47.3329\n",
      "Epoch 3/50\n",
      "\u001b[1m202/202\u001b[0m \u001b[32m━━━━━━━━━━━━━━━━━━━━\u001b[0m\u001b[37m\u001b[0m \u001b[1m3s\u001b[0m 15ms/step - accuracy: 0.6045 - loss: 0.6866 - val_accuracy: 0.3182 - val_loss: 169.9716\n",
      "Epoch 4/50\n",
      "\u001b[1m202/202\u001b[0m \u001b[32m━━━━━━━━━━━━━━━━━━━━\u001b[0m\u001b[37m\u001b[0m \u001b[1m6s\u001b[0m 32ms/step - accuracy: 0.5703 - loss: 0.6878 - val_accuracy: 0.2955 - val_loss: 451.6243\n",
      "Epoch 5/50\n",
      "\u001b[1m202/202\u001b[0m \u001b[32m━━━━━━━━━━━━━━━━━━━━\u001b[0m\u001b[37m\u001b[0m \u001b[1m3s\u001b[0m 16ms/step - accuracy: 0.5735 - loss: 0.6868 - val_accuracy: 0.2955 - val_loss: 631.0511\n",
      "Epoch 6/50\n",
      "\u001b[1m202/202\u001b[0m \u001b[32m━━━━━━━━━━━━━━━━━━━━\u001b[0m\u001b[37m\u001b[0m \u001b[1m3s\u001b[0m 16ms/step - accuracy: 0.5674 - loss: 0.6855 - val_accuracy: 0.2955 - val_loss: 665.4148\n",
      "Epoch 7/50\n",
      "\u001b[1m202/202\u001b[0m \u001b[32m━━━━━━━━━━━━━━━━━━━━\u001b[0m\u001b[37m\u001b[0m \u001b[1m3s\u001b[0m 15ms/step - accuracy: 0.5764 - loss: 0.6844 - val_accuracy: 0.2955 - val_loss: 644.3038\n",
      "Epoch 8/50\n",
      "\u001b[1m202/202\u001b[0m \u001b[32m━━━━━━━━━━━━━━━━━━━━\u001b[0m\u001b[37m\u001b[0m \u001b[1m3s\u001b[0m 16ms/step - accuracy: 0.6323 - loss: 0.6729 - val_accuracy: 0.3182 - val_loss: 678.4311\n",
      "Epoch 9/50\n",
      "\u001b[1m202/202\u001b[0m \u001b[32m━━━━━━━━━━━━━━━━━━━━\u001b[0m\u001b[37m\u001b[0m \u001b[1m3s\u001b[0m 15ms/step - accuracy: 0.5714 - loss: 0.6836 - val_accuracy: 0.2955 - val_loss: 667.2896\n",
      "Epoch 10/50\n",
      "\u001b[1m202/202\u001b[0m \u001b[32m━━━━━━━━━━━━━━━━━━━━\u001b[0m\u001b[37m\u001b[0m \u001b[1m3s\u001b[0m 16ms/step - accuracy: 0.5973 - loss: 0.6769 - val_accuracy: 0.2955 - val_loss: 687.2621\n",
      "Epoch 11/50\n",
      "\u001b[1m202/202\u001b[0m \u001b[32m━━━━━━━━━━━━━━━━━━━━\u001b[0m\u001b[37m\u001b[0m \u001b[1m3s\u001b[0m 16ms/step - accuracy: 0.6185 - loss: 0.6711 - val_accuracy: 0.2727 - val_loss: 709.1301\n",
      "\u001b[1m44/44\u001b[0m \u001b[32m━━━━━━━━━━━━━━━━━━━━\u001b[0m\u001b[37m\u001b[0m \u001b[1m1s\u001b[0m 12ms/step - accuracy: 0.5524 - loss: 3.9735    \n",
      "Time taken for epoch: 48.49008250236511 seconds\n"
     ]
    }
   ],
   "source": [
    "import time\n",
    "start_time = time.time()\n",
    "\n",
    "with tf.device('/GPU:0'):\n",
    "    early_stopping = tf.keras.callbacks.EarlyStopping(monitor='val_loss', patience=10,restore_best_weights=True)\n",
    "    history = cnn.fit(train_set, validation_data=test_set, epochs=50, callbacks=[early_stopping])\n",
    "    #cnn.fit(x=train_set, validation_data=test_set, epochs=50)\n",
    "    cnn.evaluate(test_set)\n",
    "\n",
    "end_time = time.time()\n",
    "print(f\"Time taken for epoch: {end_time - start_time} seconds\")\n"
   ]
  },
  {
   "cell_type": "code",
   "execution_count": 13,
   "id": "a09d2c15-b800-4bc4-aaac-ae73fcf384b4",
   "metadata": {},
   "outputs": [
    {
     "data": {
      "image/png": "[encoded data removed]",
      "text/plain": [
       "<Figure size 640x480 with 1 Axes>"
      ]
     },
     "metadata": {},
     "output_type": "display_data"
    }
   ],
   "source": [
    "import matplotlib.pyplot as plt\n",
    "plt.plot(history.history['accuracy'], label='train accuracy')\n",
    "plt.plot(history.history['val_accuracy'], label='validation accuracy')\n",
    "plt.legend()\n",
    "plt.show()"
   ]
  },
  {
   "cell_type": "code",
   "execution_count": 14,
   "id": "b0549673-c44d-4453-a6f0-0e51a8c1e435",
   "metadata": {},
   "outputs": [],
   "source": [
    "import numpy as np\n",
    "from keras.preprocessing import image\n",
    "test_images=[]\n",
    "\n",
    "test_image = image.load_img('/mnt/c/MyEverything/PythonProjects/Recent_projects/cnn_analysis/MiniProjectCNN/Dataset/sample_img/img1.png', target_size=(100, 100))\n",
    "test_image = image.img_to_array(test_image)\n",
    "test_image = np.expand_dims(test_image, axis=0)\n",
    "test_image /= 255.0\n",
    "test_images.append(test_image)"
   ]
  },
  {
   "cell_type": "code",
   "execution_count": 15,
   "id": "20e30d04-81fd-404c-9899-f05321bf5114",
   "metadata": {},
   "outputs": [
    {
     "name": "stdout",
     "output_type": "stream",
     "text": [
      "\u001b[1m1/1\u001b[0m \u001b[32m━━━━━━━━━━━━━━━━━━━━\u001b[0m\u001b[37m\u001b[0m \u001b[1m0s\u001b[0m 361ms/step\n",
      "result: 6.626406e-05\n",
      "\n",
      "predicted class index: 0 \n",
      "\n",
      "\n",
      "Predicted class: Defect_images\n"
     ]
    }
   ],
   "source": [
    "test_preds=[]\n",
    "\n",
    "result = cnn.predict(test_image)\n",
    "print(\"result:\",result[0][0],end='\\n\\n')\n",
    "predicted_class_index = 0 if result[0][0] <0.5 else 1\n",
    "print('predicted class index:', predicted_class_index,'\\n\\n')\n",
    "class_labels = {v: k for k, v in train_set.class_indices.items()}\n",
    "prediction = class_labels[predicted_class_index]\n",
    "print(f\"Predicted class: {prediction}\")\n",
    "test_preds.append(prediction)\n",
    "\n"
   ]
  },
  {
   "cell_type": "code",
   "execution_count": 16,
   "id": "048f74ef-e623-4b6a-ad2c-12c29ba56128",
   "metadata": {},
   "outputs": [
    {
     "name": "stderr",
     "output_type": "stream",
     "text": [
      "WARNING:absl:You are saving your model as an HDF5 file via `model.save()` or `keras.saving.save_model(model)`. This file format is considered legacy. We recommend using instead the native Keras format, e.g. `model.save('my_model.keras')` or `keras.saving.save_model(model, 'my_model.keras')`. \n"
     ]
    }
   ],
   "source": [
    "# import pickle\n",
    "# with open('first_cnn_try.pkl', 'wb') as f:\n",
    "#     pickle.dump(cnn, f)\n",
    "#     print(\"Model saved!\")\n",
    "\n",
    "cnn.save('first_cnn_try.h5')"
   ]
  },
  {
   "cell_type": "code",
   "execution_count": 17,
   "id": "c4c13308-bc2d-406c-a5df-d102be631cfa",
   "metadata": {},
   "outputs": [
    {
     "name": "stdout",
     "output_type": "stream",
     "text": [
      "Class Labels: {0: 'Defect_images', 1: 'NODefect_images'}\n"
     ]
    }
   ],
   "source": [
    "class_labels = {v: k for k, v in train_set.class_indices.items()}\n",
    "print(\"Class Labels:\", class_labels)\n"
   ]
  },
  {
   "cell_type": "code",
   "execution_count": 18,
   "id": "b240b0ee-1a88-4767-ac03-751c274c1884",
   "metadata": {},
   "outputs": [
    {
     "name": "stderr",
     "output_type": "stream",
     "text": [
      "WARNING:absl:Compiled the loaded model, but the compiled metrics have yet to be built. `model.compile_metrics` will be empty until you train or evaluate the model.\n"
     ]
    },
    {
     "name": "stdout",
     "output_type": "stream",
     "text": [
      "\u001b[1m1/1\u001b[0m \u001b[32m━━━━━━━━━━━━━━━━━━━━\u001b[0m\u001b[37m\u001b[0m \u001b[1m0s\u001b[0m 284ms/step\n",
      "predicted: 6.626406e-05\n",
      "Predicted class: Defect_images\n"
     ]
    }
   ],
   "source": [
    "# with open('first_cnn_try.pkl', 'rb') as f:\n",
    "#     loaded_cnn = pickle.load(f)\n",
    "loaded_cnn = tf.keras.models.load_model('first_cnn_try.h5')\n",
    "# Use the loaded model for predictions\n",
    "result = loaded_cnn.predict(test_image)\n",
    "print(\"predicted:\",result[0][0])\n",
    "predicted_class_index = 0 if result[0][0] <0.5 else 1\n",
    "class_labels = {v: k for k, v in train_set.class_indices.items()}\n",
    "prediction = class_labels[predicted_class_index]\n",
    "\n",
    "print(f\"Predicted class: {prediction}\")"
   ]
  },
  {
   "cell_type": "code",
   "execution_count": 19,
   "id": "2e798dc2-9c88-483b-8b7a-c785dc82dee4",
   "metadata": {},
   "outputs": [],
   "source": [
    "import numpy as np\n",
    "from sklearn.metrics import confusion_matrix, classification_report, f1_score, precision_score, recall_score\n",
    "import seaborn as sns\n"
   ]
  },
  {
   "cell_type": "code",
   "execution_count": 20,
   "id": "5eca4756-35a3-4e25-a991-ecb162352efb",
   "metadata": {},
   "outputs": [
    {
     "name": "stdout",
     "output_type": "stream",
     "text": [
      "\u001b[1m44/44\u001b[0m \u001b[32m━━━━━━━━━━━━━━━━━━━━\u001b[0m\u001b[37m\u001b[0m \u001b[1m4s\u001b[0m 11ms/step\n",
      "[0, 0, 0, 0, 0, 0, 0, 0, 0, 0, 0, 0, 0, 0, 0, 0, 0, 0, 0, 0, 0, 0, 0, 0, 0, 0, 0, 0, 0, 0, 0, 0, 0, 0, 0, 0, 0, 0, 0, 0, 0, 0, 0, 0]\n"
     ]
    }
   ],
   "source": [
    "true_labels = test_set.classes\n",
    "\n",
    "\n",
    "predictions = cnn.predict(test_set)\n",
    "predicted_labels = [1 if pred >= 0.5 else 0 for pred in predictions.flatten()]\n",
    "\n",
    "print(predicted_labels)\n"
   ]
  },
  {
   "cell_type": "code",
   "execution_count": 21,
   "id": "974565b3-b14a-4c5f-8792-8fa401823b71",
   "metadata": {},
   "outputs": [
    {
     "name": "stdout",
     "output_type": "stream",
     "text": [
      "Confusion Matrix:\n",
      " [[19  0]\n",
      " [25  0]]\n",
      "\n",
      "Classification Report:\n",
      "                  precision    recall  f1-score   support\n",
      "\n",
      "  Defect_images       0.43      1.00      0.60        19\n",
      "NODefect_images       0.00      0.00      0.00        25\n",
      "\n",
      "       accuracy                           0.43        44\n",
      "      macro avg       0.22      0.50      0.30        44\n",
      "   weighted avg       0.19      0.43      0.26        44\n",
      "\n",
      "\n",
      "F1 Score: 0.26\n",
      "Precision: 0.19\n",
      "Recall: 0.43\n"
     ]
    },
    {
     "name": "stderr",
     "output_type": "stream",
     "text": [
      "/mnt/c/Windows/system32/tf_env/lib/python3.12/site-packages/sklearn/metrics/_classification.py:1565: UndefinedMetricWarning: Precision is ill-defined and being set to 0.0 in labels with no predicted samples. Use `zero_division` parameter to control this behavior.\n",
      "  _warn_prf(average, modifier, f\"{metric.capitalize()} is\", len(result))\n",
      "/mnt/c/Windows/system32/tf_env/lib/python3.12/site-packages/sklearn/metrics/_classification.py:1565: UndefinedMetricWarning: Precision is ill-defined and being set to 0.0 in labels with no predicted samples. Use `zero_division` parameter to control this behavior.\n",
      "  _warn_prf(average, modifier, f\"{metric.capitalize()} is\", len(result))\n",
      "/mnt/c/Windows/system32/tf_env/lib/python3.12/site-packages/sklearn/metrics/_classification.py:1565: UndefinedMetricWarning: Precision is ill-defined and being set to 0.0 in labels with no predicted samples. Use `zero_division` parameter to control this behavior.\n",
      "  _warn_prf(average, modifier, f\"{metric.capitalize()} is\", len(result))\n",
      "/mnt/c/Windows/system32/tf_env/lib/python3.12/site-packages/sklearn/metrics/_classification.py:1565: UndefinedMetricWarning: Precision is ill-defined and being set to 0.0 in labels with no predicted samples. Use `zero_division` parameter to control this behavior.\n",
      "  _warn_prf(average, modifier, f\"{metric.capitalize()} is\", len(result))\n"
     ]
    },
    {
     "data": {
      "image/png": "[encoded data removed]",
      "text/plain": [
       "<Figure size 640x480 with 2 Axes>"
      ]
     },
     "metadata": {},
     "output_type": "display_data"
    }
   ],
   "source": [
    "# Confusion Matrix\n",
    "cm = confusion_matrix(true_labels, predicted_labels)\n",
    "sns.heatmap(cm,annot=True,xticklabels=['Defect','No Defect'],yticklabels=['Defect','No Defect'],cmap=\"crest\")\n",
    "# Classification Report\n",
    "report = classification_report(true_labels, predicted_labels, target_names=train_set.class_indices.keys())\n",
    "\n",
    "# F1 Score, Precision, Recall\n",
    "f1 = f1_score(true_labels, predicted_labels, average='weighted')\n",
    "precision = precision_score(true_labels, predicted_labels, average='weighted')\n",
    "recall = recall_score(true_labels, predicted_labels, average='weighted')\n",
    "\n",
    "print(\"Confusion Matrix:\\n\", cm)\n",
    "print(\"\\nClassification Report:\\n\", report)\n",
    "print(f\"\\nF1 Score: {f1:.2f}\")\n",
    "print(f\"Precision: {precision:.2f}\")\n",
    "print(f\"Recall: {recall:.2f}\")\n"
   ]
  },
  {
   "cell_type": "code",
   "execution_count": 22,
   "id": "b6bf659e-3f54-47b7-a980-04bcfcdc40e0",
   "metadata": {},
   "outputs": [],
   "source": [
    "base_model = tf.keras.applications.ResNet50(include_top=False, weights='imagenet', input_shape=(100, 100, 3))\n",
    "base_model.trainable = False  # Freeze pretrained layers\n",
    "\n",
    "cnn2 = tf.keras.Sequential([\n",
    "    base_model,\n",
    "    tf.keras.layers.Flatten(),\n",
    "    tf.keras.layers.Dense(256, activation='relu'),\n",
    "    tf.keras.layers.Dropout(0.5),\n",
    "    tf.keras.layers.Dense(1, activation='sigmoid')\n",
    "])"
   ]
  },
  {
   "cell_type": "code",
   "execution_count": 23,
   "id": "39f4b4dc-dedf-4562-a6c4-64c9ded8e114",
   "metadata": {},
   "outputs": [],
   "source": [
    "cnn2.compile(\n",
    "    optimizer=tf.keras.optimizers.Adam(learning_rate=0.001),\n",
    "    loss='binary_crossentropy',  # Use 'categorical_crossentropy' for multi-class classification\n",
    "    metrics=['accuracy']\n",
    ")\n"
   ]
  },
  {
   "cell_type": "code",
   "execution_count": 24,
   "id": "93f72574-cd2d-48e1-8731-dd867b29bc0e",
   "metadata": {},
   "outputs": [
    {
     "name": "stdout",
     "output_type": "stream",
     "text": [
      "Found 202 images belonging to 2 classes.\n",
      "Found 44 images belonging to 2 classes.\n"
     ]
    }
   ],
   "source": [
    "from tensorflow.keras.preprocessing.image import ImageDataGenerator\n",
    "\n",
    "# Data augmentation and rescaling\n",
    "train_datagen = ImageDataGenerator(\n",
    "    rescale=1./255,\n",
    "    rotation_range=20,\n",
    "    width_shift_range=0.2,\n",
    "    height_shift_range=0.2,\n",
    "    shear_range=0.2,\n",
    "    zoom_range=0.2,\n",
    "    horizontal_flip=True,\n",
    "    fill_mode='nearest'\n",
    ")\n",
    "\n",
    "val_datagen = ImageDataGenerator(rescale=1./255)\n",
    "\n",
    "# Prepare datasets\n",
    "train_generator = train_datagen.flow_from_directory(\n",
    "    \"/mnt/c/MyEverything/PythonProjects/Recent_projects/cnn_analysis/MiniProjectCNN/Dataset/train\",\n",
    "    target_size=(100, 100),\n",
    "    batch_size=32,\n",
    "    class_mode='binary'  # Use 'categorical' for multi-class classification\n",
    ")\n",
    "\n",
    "val_generator = val_datagen.flow_from_directory(\n",
    "    \"/mnt/c/MyEverything/PythonProjects/Recent_projects/cnn_analysis/MiniProjectCNN/Dataset/test\",\n",
    "    target_size=(100, 100),\n",
    "    batch_size=32,\n",
    "    class_mode='binary'\n",
    ")\n"
   ]
  },
  {
   "cell_type": "code",
   "execution_count": null,
   "id": "4ac8eecc-0df9-40d5-a873-a4b31e0ac858",
   "metadata": {},
   "outputs": [
    {
     "name": "stdout",
     "output_type": "stream",
     "text": [
      "Epoch 1/50\n"
     ]
    }
   ],
   "source": [
    "with tf.device('/GPU:0'):\n",
    "    history = cnn.fit(\n",
    "        train_generator,\n",
    "        validation_data=val_generator,\n",
    "        epochs=50,  # Adjust epochs based on your data size and performance\n",
    "        verbose=1\n",
    "    )\n"
   ]
  },
  {
   "cell_type": "code",
   "execution_count": null,
   "id": "a350d776-42ba-4327-8eef-e6b69d96488c",
   "metadata": {},
   "outputs": [],
   "source": [
    "base_model.trainable = True  # Unfreeze layers\n",
    "\n",
    "# Optionally, freeze earlier layers to retain low-level features\n",
    "for layer in base_model.layers[:100]:\n",
    "    layer.trainable = False\n",
    "\n",
    "# Recompile the model with a lower learning rate for fine-tuning\n",
    "cnn2.compile(\n",
    "    optimizer=tf.keras.optimizers.Adam(learning_rate=1e-5),\n",
    "    loss='binary_crossentropy',\n",
    "    metrics=['accuracy']\n",
    ")\n",
    "with tf.device('/GPU:0'):\n",
    "    # Fine-tune the model\n",
    "    history_fine_tune = cnn2.fit(\n",
    "        train_generator,\n",
    "        validation_data=val_generator,\n",
    "        epochs=15,  # Add a few more epochs for fine-tuning\n",
    "        verbose=1\n",
    "    )\n"
   ]
  },
  {
   "cell_type": "code",
   "execution_count": 27,
   "id": "7da71b36-1a63-4f3d-9c34-d5e55b95cf8c",
   "metadata": {},
   "outputs": [
    {
     "name": "stdout",
     "output_type": "stream",
     "text": [
      "\u001b[1m44/44\u001b[0m \u001b[32m━━━━━━━━━━━━━━━━━━━━\u001b[0m\u001b[37m\u001b[0m \u001b[1m2s\u001b[0m 12ms/step - accuracy: 0.6834 - loss: 0.6353\n",
      "Test Accuracy: 0.5681818127632141\n"
     ]
    }
   ],
   "source": [
    "# test_generator = val_datagen.flow_from_directory(\n",
    "#     '/mnt/c/MyEverything/PythonProjects/Recent_projects/cnn_analysis/MiniProjectCNN/Dataset/sample_img/',\n",
    "#     target_size=(100, 100),\n",
    "#     batch_size=32,\n",
    "#     class_mode='binary'\n",
    "# )\n",
    "\n",
    "test_loss, test_accuracy = cnn2.evaluate(test_set, verbose=1)\n",
    "print(\"Test Accuracy:\", test_accuracy)\n"
   ]
  },
  {
   "cell_type": "code",
   "execution_count": 28,
   "id": "7fc59f2f-5b4f-4ea2-b74d-059e0b6aafbd",
   "metadata": {},
   "outputs": [
    {
     "data": {
      "image/png": "[encoded data removed]",
      "text/plain": [
       "<Figure size 640x480 with 1 Axes>"
      ]
     },
     "metadata": {},
     "output_type": "display_data"
    },
    {
     "data": {
      "image/png": "[encoded data removed]",
      "text/plain": [
       "<Figure size 640x480 with 1 Axes>"
      ]
     },
     "metadata": {},
     "output_type": "display_data"
    }
   ],
   "source": [
    "import matplotlib.pyplot as plt\n",
    "\n",
    "# Plot accuracy\n",
    "plt.plot(history.history['accuracy'], label='Train Accuracy')\n",
    "plt.plot(history.history['val_accuracy'], label='Validation Accuracy')\n",
    "plt.legend()\n",
    "plt.show()\n",
    "\n",
    "# Plot loss\n",
    "plt.plot(history.history['loss'], label='Train Loss')\n",
    "plt.plot(history.history['val_loss'], label='Validation Loss')\n",
    "plt.legend()\n",
    "plt.show()\n"
   ]
  },
  {
   "cell_type": "code",
   "execution_count": 29,
   "id": "15ebc6c1-4bac-4c81-8edd-0ab5bd97eb80",
   "metadata": {},
   "outputs": [
    {
     "name": "stdout",
     "output_type": "stream",
     "text": [
      "\u001b[1m1/1\u001b[0m \u001b[32m━━━━━━━━━━━━━━━━━━━━\u001b[0m\u001b[37m\u001b[0m \u001b[1m0s\u001b[0m 21ms/step\n",
      "Prediction: Positive\n"
     ]
    }
   ],
   "source": [
    "from tensorflow.keras.preprocessing import image\n",
    "import numpy as np\n",
    "\n",
    "# Load and preprocess an image\n",
    "img = image.load_img('/mnt/c/MyEverything/PythonProjects/Recent_projects/cnn_analysis/MiniProjectCNN/Dataset/sample_img/img1.png', target_size=(100, 100))\n",
    "img_array = image.img_to_array(img) / 255.0\n",
    "img_array = np.expand_dims(img_array, axis=0)\n",
    "\n",
    "# Make prediction\n",
    "prediction = cnn.predict(img_array)\n",
    "print(\"Prediction:\", \"Positive\" if prediction[0] > 0.5 else \"Negative\")\n"
   ]
  }
 ],
 "metadata": {
  "kernelspec": {
   "display_name": "Python 3 (ipykernel)",
   "language": "python",
   "name": "python3"
  },
  "language_info": {
   "codemirror_mode": {
    "name": "ipython",
    "version": 3
   },
   "file_extension": ".py",
   "mimetype": "text/x-python",
   "name": "python",
   "nbconvert_exporter": "python",
   "pygments_lexer": "ipython3",
   "version": "3.12.3"
  }
 },
 "nbformat": 4,
 "nbformat_minor": 5
}
