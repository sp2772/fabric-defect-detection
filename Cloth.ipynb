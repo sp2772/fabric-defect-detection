{
 "cells": [
  {
   "cell_type": "code",
   "execution_count": 1,
   "id": "c7a9f6da-7c29-4060-97f8-86d9412db298",
   "metadata": {
    "scrolled": true
   },
   "outputs": [
    {
     "name": "stderr",
     "output_type": "stream",
     "text": [
      "2025-01-18 08:28:32.161425: I tensorflow/core/util/port.cc:153] oneDNN custom operations are on. You may see slightly different numerical results due to floating-point round-off errors from different computation orders. To turn them off, set the environment variable `TF_ENABLE_ONEDNN_OPTS=0`.\n",
      "2025-01-18 08:28:35.099188: E external/local_xla/xla/stream_executor/cuda/cuda_fft.cc:477] Unable to register cuFFT factory: Attempting to register factory for plugin cuFFT when one has already been registered\n",
      "WARNING: All log messages before absl::InitializeLog() is called are written to STDERR\n",
      "E0000 00:00:1737188916.206109     600 cuda_dnn.cc:8310] Unable to register cuDNN factory: Attempting to register factory for plugin cuDNN when one has already been registered\n",
      "E0000 00:00:1737188916.476052     600 cuda_blas.cc:1418] Unable to register cuBLAS factory: Attempting to register factory for plugin cuBLAS when one has already been registered\n",
      "2025-01-18 08:28:40.016464: I tensorflow/core/platform/cpu_feature_guard.cc:210] This TensorFlow binary is optimized to use available CPU instructions in performance-critical operations.\n",
      "To enable the following instructions: AVX2 AVX_VNNI FMA, in other operations, rebuild TensorFlow with the appropriate compiler flags.\n"
     ]
    }
   ],
   "source": [
    "import tensorflow as tf\n"
   ]
  },
  {
   "cell_type": "code",
   "execution_count": 2,
   "id": "23ebb272-a70c-4a88-b6f7-b71a57fb8ce2",
   "metadata": {},
   "outputs": [
    {
     "data": {
      "text/plain": [
       "[PhysicalDevice(name='/physical_device:CPU:0', device_type='CPU'),\n",
       " PhysicalDevice(name='/physical_device:GPU:0', device_type='GPU')]"
      ]
     },
     "execution_count": 2,
     "metadata": {},
     "output_type": "execute_result"
    }
   ],
   "source": [
    "tf.config.list_physical_devices()"
   ]
  },
  {
   "cell_type": "code",
   "execution_count": 401,
   "id": "4196ee3e-db25-477d-be46-cef071835b12",
   "metadata": {},
   "outputs": [],
   "source": [
    "from tensorflow.keras.preprocessing.image import ImageDataGenerator"
   ]
  },
  {
   "cell_type": "code",
   "execution_count": 402,
   "id": "ee313a3f-3416-4188-bb68-0f60be5810ac",
   "metadata": {},
   "outputs": [],
   "source": [
    "#train_datagen= ImageDataGenerator(rescale=1./255,shear_range=0.1,zoom_range=0.1,horizontal_flip=True)\n",
    "train_datagen = ImageDataGenerator(\n",
    "    rescale=1.0 / 255,\n",
    "    shear_range=0.2,\n",
    "    zoom_range=0.2,\n",
    "    rotation_range=20,\n",
    "    horizontal_flip=True,\n",
    "    fill_mode='nearest',\n",
    ")"
   ]
  },
  {
   "cell_type": "code",
   "execution_count": 403,
   "id": "c06d4593-3a5c-4209-a38d-789d2ba5a71c",
   "metadata": {},
   "outputs": [
    {
     "name": "stdout",
     "output_type": "stream",
     "text": [
      "Found 202 images belonging to 2 classes.\n"
     ]
    }
   ],
   "source": [
    "train_set= train_datagen.flow_from_directory(\"/mnt/c/MyEverything/PythonProjects/Recent_projects/cnn_analysis/MiniProjectCNN/Dataset/train\", \n",
    "                                             target_size =(100,100),batch_size=32,class_mode='binary')"
   ]
  },
  {
   "cell_type": "code",
   "execution_count": 404,
   "id": "73a3d64d-e2d1-43a4-840b-20a2b729a8fb",
   "metadata": {},
   "outputs": [
    {
     "name": "stdout",
     "output_type": "stream",
     "text": [
      "Found 44 images belonging to 2 classes.\n"
     ]
    }
   ],
   "source": [
    "test_datagen= ImageDataGenerator(rescale=1./255)\n",
    "test_set= test_datagen.flow_from_directory(\"/mnt/c/MyEverything/PythonProjects/Recent_projects/cnn_analysis/MiniProjectCNN/Dataset/test\", \n",
    "                                           target_size= (100,100), batch_size = 32, class_mode = 'binary')\n"
   ]
  },
  {
   "cell_type": "code",
   "execution_count": 405,
   "id": "9bb2b442-cfaa-4281-8056-d6435dd2c9f0",
   "metadata": {},
   "outputs": [],
   "source": [
    "cnn = tf.keras.models.Sequential()"
   ]
  },
  {
   "cell_type": "code",
   "execution_count": 406,
   "id": "3578146f-911f-4057-b751-f2f2422a4fa1",
   "metadata": {},
   "outputs": [
    {
     "name": "stderr",
     "output_type": "stream",
     "text": [
      "/mnt/c/Windows/system32/tf_env/lib/python3.12/site-packages/keras/src/layers/convolutional/base_conv.py:107: UserWarning: Do not pass an `input_shape`/`input_dim` argument to a layer. When using Sequential models, prefer using an `Input(shape)` object as the first layer in the model instead.\n",
      "  super().__init__(activity_regularizer=activity_regularizer, **kwargs)\n"
     ]
    }
   ],
   "source": [
    "cnn.add(tf.keras.layers.Conv2D(filters = 64, kernel_size = 5, activation = 'relu', input_shape= [ 100, 100, 3]))\n",
    "cnn.add(tf.keras.layers.MaxPool2D(pool_size=2, strides=2))\n",
    "cnn.add(tf.keras.layers.Conv2D(filters = 64, kernel_size = 5, activation = 'relu'))\n",
    "cnn.add(tf.keras.layers.MaxPool2D(pool_size=2, strides=2))\n",
    "cnn.add(tf.keras.layers.Flatten())\n",
    "cnn.add(tf.keras.layers.Dense(units=128,activation='relu'))\n",
    "cnn.add(tf.keras.layers.Dense(units=128,activation='relu'))\n",
    "cnn.add(tf.keras.layers.Dense(units=1, activation='sigmoid'))"
   ]
  },
  {
   "cell_type": "code",
   "execution_count": 407,
   "id": "ea43859e-1217-4a0c-a8f6-8d198bd8508b",
   "metadata": {},
   "outputs": [],
   "source": [
    "cnn.compile(optimizer=tf.keras.optimizers.Adam(learning_rate=0.0001), loss='binary_crossentropy', metrics=['accuracy'])"
   ]
  },
  {
   "cell_type": "code",
   "execution_count": 408,
   "id": "f73372e6-0f0b-4b51-a6d7-75329d2c9948",
   "metadata": {},
   "outputs": [
    {
     "name": "stdout",
     "output_type": "stream",
     "text": [
      "Class Indices: {'Defect_images': 0, 'NODefect_images': 1}\n",
      "Number of Classes: 2\n",
      "Number of Classes: 2\n",
      "Model Output Shape: (None, 1)\n"
     ]
    }
   ],
   "source": [
    "print(\"Class Indices:\", train_set.class_indices)\n",
    "print(\"Number of Classes:\", train_set.num_classes)\n",
    "print(\"Number of Classes:\", test_set.num_classes)\n",
    "print(\"Model Output Shape:\", cnn.output_shape)"
   ]
  },
  {
   "cell_type": "code",
   "execution_count": 423,
   "id": "07f04bc7-229f-4368-ba85-de18a44d3f0a",
   "metadata": {},
   "outputs": [
    {
     "name": "stdout",
     "output_type": "stream",
     "text": [
      "Epoch 1/50\n",
      "\u001b[1m7/7\u001b[0m \u001b[32m━━━━━━━━━━━━━━━━━━━━\u001b[0m\u001b[37m\u001b[0m \u001b[1m3s\u001b[0m 420ms/step - accuracy: 0.6316 - loss: 0.6281 - val_accuracy: 0.5227 - val_loss: 0.7303\n",
      "Epoch 2/50\n",
      "\u001b[1m7/7\u001b[0m \u001b[32m━━━━━━━━━━━━━━━━━━━━\u001b[0m\u001b[37m\u001b[0m \u001b[1m3s\u001b[0m 397ms/step - accuracy: 0.6853 - loss: 0.6380 - val_accuracy: 0.6591 - val_loss: 0.6521\n",
      "Epoch 3/50\n",
      "\u001b[1m7/7\u001b[0m \u001b[32m━━━━━━━━━━━━━━━━━━━━\u001b[0m\u001b[37m\u001b[0m \u001b[1m3s\u001b[0m 356ms/step - accuracy: 0.6876 - loss: 0.6267 - val_accuracy: 0.5227 - val_loss: 0.7521\n",
      "Epoch 4/50\n",
      "\u001b[1m7/7\u001b[0m \u001b[32m━━━━━━━━━━━━━━━━━━━━\u001b[0m\u001b[37m\u001b[0m \u001b[1m3s\u001b[0m 347ms/step - accuracy: 0.6543 - loss: 0.6477 - val_accuracy: 0.6136 - val_loss: 0.6929\n",
      "Epoch 5/50\n",
      "\u001b[1m7/7\u001b[0m \u001b[32m━━━━━━━━━━━━━━━━━━━━\u001b[0m\u001b[37m\u001b[0m \u001b[1m3s\u001b[0m 377ms/step - accuracy: 0.5968 - loss: 0.6628 - val_accuracy: 0.6364 - val_loss: 0.6806\n",
      "Epoch 6/50\n",
      "\u001b[1m7/7\u001b[0m \u001b[32m━━━━━━━━━━━━━━━━━━━━\u001b[0m\u001b[37m\u001b[0m \u001b[1m3s\u001b[0m 377ms/step - accuracy: 0.6525 - loss: 0.6387 - val_accuracy: 0.6136 - val_loss: 0.6994\n",
      "Epoch 7/50\n",
      "\u001b[1m7/7\u001b[0m \u001b[32m━━━━━━━━━━━━━━━━━━━━\u001b[0m\u001b[37m\u001b[0m \u001b[1m3s\u001b[0m 355ms/step - accuracy: 0.6428 - loss: 0.6462 - val_accuracy: 0.7045 - val_loss: 0.6508\n",
      "Epoch 8/50\n",
      "\u001b[1m7/7\u001b[0m \u001b[32m━━━━━━━━━━━━━━━━━━━━\u001b[0m\u001b[37m\u001b[0m \u001b[1m3s\u001b[0m 377ms/step - accuracy: 0.5955 - loss: 0.6523 - val_accuracy: 0.6364 - val_loss: 0.6640\n",
      "Epoch 9/50\n",
      "\u001b[1m7/7\u001b[0m \u001b[32m━━━━━━━━━━━━━━━━━━━━\u001b[0m\u001b[37m\u001b[0m \u001b[1m3s\u001b[0m 431ms/step - accuracy: 0.6673 - loss: 0.6236 - val_accuracy: 0.6136 - val_loss: 0.6838\n",
      "Epoch 10/50\n",
      "\u001b[1m7/7\u001b[0m \u001b[32m━━━━━━━━━━━━━━━━━━━━\u001b[0m\u001b[37m\u001b[0m \u001b[1m3s\u001b[0m 420ms/step - accuracy: 0.7004 - loss: 0.6057 - val_accuracy: 0.6136 - val_loss: 0.6896\n",
      "Epoch 11/50\n",
      "\u001b[1m7/7\u001b[0m \u001b[32m━━━━━━━━━━━━━━━━━━━━\u001b[0m\u001b[37m\u001b[0m \u001b[1m6s\u001b[0m 913ms/step - accuracy: 0.7142 - loss: 0.6025 - val_accuracy: 0.6136 - val_loss: 0.6869\n",
      "Epoch 12/50\n",
      "\u001b[1m7/7\u001b[0m \u001b[32m━━━━━━━━━━━━━━━━━━━━\u001b[0m\u001b[37m\u001b[0m \u001b[1m3s\u001b[0m 359ms/step - accuracy: 0.7121 - loss: 0.6012 - val_accuracy: 0.6591 - val_loss: 0.6914\n",
      "Epoch 13/50\n",
      "\u001b[1m7/7\u001b[0m \u001b[32m━━━━━━━━━━━━━━━━━━━━\u001b[0m\u001b[37m\u001b[0m \u001b[1m3s\u001b[0m 382ms/step - accuracy: 0.6835 - loss: 0.5942 - val_accuracy: 0.5227 - val_loss: 0.8206\n",
      "Epoch 14/50\n",
      "\u001b[1m7/7\u001b[0m \u001b[32m━━━━━━━━━━━━━━━━━━━━\u001b[0m\u001b[37m\u001b[0m \u001b[1m3s\u001b[0m 382ms/step - accuracy: 0.7186 - loss: 0.6222 - val_accuracy: 0.5909 - val_loss: 0.7789\n",
      "Epoch 15/50\n",
      "\u001b[1m7/7\u001b[0m \u001b[32m━━━━━━━━━━━━━━━━━━━━\u001b[0m\u001b[37m\u001b[0m \u001b[1m3s\u001b[0m 380ms/step - accuracy: 0.6304 - loss: 0.6232 - val_accuracy: 0.6818 - val_loss: 0.6491\n",
      "Epoch 16/50\n",
      "\u001b[1m7/7\u001b[0m \u001b[32m━━━━━━━━━━━━━━━━━━━━\u001b[0m\u001b[37m\u001b[0m \u001b[1m3s\u001b[0m 361ms/step - accuracy: 0.6739 - loss: 0.6522 - val_accuracy: 0.5227 - val_loss: 0.7582\n",
      "Epoch 17/50\n",
      "\u001b[1m7/7\u001b[0m \u001b[32m━━━━━━━━━━━━━━━━━━━━\u001b[0m\u001b[37m\u001b[0m \u001b[1m3s\u001b[0m 370ms/step - accuracy: 0.7106 - loss: 0.6174 - val_accuracy: 0.6818 - val_loss: 0.6354\n",
      "Epoch 18/50\n",
      "\u001b[1m7/7\u001b[0m \u001b[32m━━━━━━━━━━━━━━━━━━━━\u001b[0m\u001b[37m\u001b[0m \u001b[1m3s\u001b[0m 385ms/step - accuracy: 0.6532 - loss: 0.6396 - val_accuracy: 0.6591 - val_loss: 0.6905\n",
      "Epoch 19/50\n",
      "\u001b[1m7/7\u001b[0m \u001b[32m━━━━━━━━━━━━━━━━━━━━\u001b[0m\u001b[37m\u001b[0m \u001b[1m3s\u001b[0m 355ms/step - accuracy: 0.6988 - loss: 0.6150 - val_accuracy: 0.6136 - val_loss: 0.6927\n",
      "Epoch 20/50\n",
      "\u001b[1m7/7\u001b[0m \u001b[32m━━━━━━━━━━━━━━━━━━━━\u001b[0m\u001b[37m\u001b[0m \u001b[1m3s\u001b[0m 381ms/step - accuracy: 0.6682 - loss: 0.6026 - val_accuracy: 0.6364 - val_loss: 0.6895\n",
      "Epoch 21/50\n",
      "\u001b[1m7/7\u001b[0m \u001b[32m━━━━━━━━━━━━━━━━━━━━\u001b[0m\u001b[37m\u001b[0m \u001b[1m3s\u001b[0m 437ms/step - accuracy: 0.6537 - loss: 0.6163 - val_accuracy: 0.5909 - val_loss: 0.7501\n",
      "Epoch 22/50\n",
      "\u001b[1m7/7\u001b[0m \u001b[32m━━━━━━━━━━━━━━━━━━━━\u001b[0m\u001b[37m\u001b[0m \u001b[1m3s\u001b[0m 390ms/step - accuracy: 0.7104 - loss: 0.5853 - val_accuracy: 0.6591 - val_loss: 0.6707\n",
      "Epoch 23/50\n",
      "\u001b[1m7/7\u001b[0m \u001b[32m━━━━━━━━━━━━━━━━━━━━\u001b[0m\u001b[37m\u001b[0m \u001b[1m5s\u001b[0m 350ms/step - accuracy: 0.6887 - loss: 0.5880 - val_accuracy: 0.4318 - val_loss: 0.8740\n",
      "Epoch 24/50\n",
      "\u001b[1m7/7\u001b[0m \u001b[32m━━━━━━━━━━━━━━━━━━━━\u001b[0m\u001b[37m\u001b[0m \u001b[1m3s\u001b[0m 378ms/step - accuracy: 0.6284 - loss: 0.6741 - val_accuracy: 0.6591 - val_loss: 0.6529\n",
      "Epoch 25/50\n",
      "\u001b[1m7/7\u001b[0m \u001b[32m━━━━━━━━━━━━━━━━━━━━\u001b[0m\u001b[37m\u001b[0m \u001b[1m3s\u001b[0m 370ms/step - accuracy: 0.6550 - loss: 0.6184 - val_accuracy: 0.6818 - val_loss: 0.6555\n",
      "\u001b[1m2/2\u001b[0m \u001b[32m━━━━━━━━━━━━━━━━━━━━\u001b[0m\u001b[37m\u001b[0m \u001b[1m0s\u001b[0m 88ms/step - accuracy: 0.7045 - loss: 0.6258 \n",
      "Time taken for epoch: 75.25057864189148 seconds\n"
     ]
    }
   ],
   "source": [
    "import time\n",
    "start_time = time.time()\n",
    "\n",
    "with tf.device('/GPU:0'):\n",
    "    early_stopping = tf.keras.callbacks.EarlyStopping(monitor='val_loss', patience=8,restore_best_weights=True)\n",
    "    history = cnn.fit(train_set, validation_data=test_set, epochs=50, callbacks=[early_stopping])\n",
    "    #cnn.fit(x=train_set, validation_data=test_set, epochs=50)\n",
    "    cnn.evaluate(test_set)\n",
    "\n",
    "end_time = time.time()\n",
    "print(f\"Time taken for epoch: {end_time - start_time} seconds\")\n"
   ]
  },
  {
   "cell_type": "code",
   "execution_count": 410,
   "id": "a09d2c15-b800-4bc4-aaac-ae73fcf384b4",
   "metadata": {},
   "outputs": [
    {
     "data": {
      "image/png": "[encoded data removed]",
      "text/plain": [
       "<Figure size 640x480 with 1 Axes>"
      ]
     },
     "metadata": {},
     "output_type": "display_data"
    }
   ],
   "source": [
    "import matplotlib.pyplot as plt\n",
    "plt.plot(history.history['accuracy'], label='train accuracy')\n",
    "plt.plot(history.history['val_accuracy'], label='validation accuracy')\n",
    "plt.legend()\n",
    "plt.show()"
   ]
  },
  {
   "cell_type": "code",
   "execution_count": 424,
   "id": "b0549673-c44d-4453-a6f0-0e51a8c1e435",
   "metadata": {},
   "outputs": [],
   "source": [
    "import numpy as np\n",
    "from keras.preprocessing import image\n",
    "test_images=[]\n",
    "\n",
    "test_image = image.load_img('/mnt/c/MyEverything/PythonProjects/Recent_projects/cnn_analysis/MiniProjectCNN/Dataset/sample_img/img1.png', target_size=(100, 100))\n",
    "test_image = image.img_to_array(test_image)\n",
    "test_image = np.expand_dims(test_image, axis=0)\n",
    "test_image /= 255.0\n",
    "test_images.append(test_image)"
   ]
  },
  {
   "cell_type": "code",
   "execution_count": 425,
   "id": "20e30d04-81fd-404c-9899-f05321bf5114",
   "metadata": {},
   "outputs": [
    {
     "name": "stdout",
     "output_type": "stream",
     "text": [
      "\u001b[1m1/1\u001b[0m \u001b[32m━━━━━━━━━━━━━━━━━━━━\u001b[0m\u001b[37m\u001b[0m \u001b[1m0s\u001b[0m 30ms/step\n",
      "result: 0.24365836\n",
      "\n",
      "predicted class index: 0 \n",
      "\n",
      "\n",
      "Predicted class: Defect_images\n"
     ]
    }
   ],
   "source": [
    "test_preds=[]\n",
    "\n",
    "result = cnn.predict(test_image)\n",
    "print(\"result:\",result[0][0],end='\\n\\n')\n",
    "predicted_class_index = 0 if result[0][0] <0.5 else 1\n",
    "print('predicted class index:', predicted_class_index,'\\n\\n')\n",
    "class_labels = {v: k for k, v in train_set.class_indices.items()}\n",
    "prediction = class_labels[predicted_class_index]\n",
    "print(f\"Predicted class: {prediction}\")\n",
    "test_preds.append(prediction)\n",
    "\n"
   ]
  },
  {
   "cell_type": "code",
   "execution_count": 426,
   "id": "048f74ef-e623-4b6a-ad2c-12c29ba56128",
   "metadata": {},
   "outputs": [
    {
     "name": "stderr",
     "output_type": "stream",
     "text": [
      "WARNING:absl:You are saving your model as an HDF5 file via `model.save()` or `keras.saving.save_model(model)`. This file format is considered legacy. We recommend using instead the native Keras format, e.g. `model.save('my_model.keras')` or `keras.saving.save_model(model, 'my_model.keras')`. \n"
     ]
    }
   ],
   "source": [
    "# import pickle\n",
    "# with open('first_cnn_try.pkl', 'wb') as f:\n",
    "#     pickle.dump(cnn, f)\n",
    "#     print(\"Model saved!\")\n",
    "\n",
    "cnn.save('first_cnn_try.h5')"
   ]
  },
  {
   "cell_type": "code",
   "execution_count": 427,
   "id": "c4c13308-bc2d-406c-a5df-d102be631cfa",
   "metadata": {},
   "outputs": [
    {
     "name": "stdout",
     "output_type": "stream",
     "text": [
      "Class Labels: {0: 'Defect_images', 1: 'NODefect_images'}\n"
     ]
    }
   ],
   "source": [
    "class_labels = {v: k for k, v in train_set.class_indices.items()}\n",
    "print(\"Class Labels:\", class_labels)\n"
   ]
  },
  {
   "cell_type": "code",
   "execution_count": 428,
   "id": "b240b0ee-1a88-4767-ac03-751c274c1884",
   "metadata": {},
   "outputs": [
    {
     "name": "stderr",
     "output_type": "stream",
     "text": [
      "WARNING:absl:Compiled the loaded model, but the compiled metrics have yet to be built. `model.compile_metrics` will be empty until you train or evaluate the model.\n"
     ]
    },
    {
     "name": "stdout",
     "output_type": "stream",
     "text": [
      "\u001b[1m1/1\u001b[0m \u001b[32m━━━━━━━━━━━━━━━━━━━━\u001b[0m\u001b[37m\u001b[0m \u001b[1m0s\u001b[0m 184ms/step\n",
      "predicted: 0.24365836\n",
      "Predicted class: Defect_images\n"
     ]
    }
   ],
   "source": [
    "# with open('first_cnn_try.pkl', 'rb') as f:\n",
    "#     loaded_cnn = pickle.load(f)\n",
    "loaded_cnn = tf.keras.models.load_model('first_cnn_try.h5')\n",
    "result = loaded_cnn.predict(test_image)\n",
    "print(\"predicted:\",result[0][0])\n",
    "predicted_class_index = 0 if result[0][0] <0.5 else 1\n",
    "class_labels = {v: k for k, v in train_set.class_indices.items()}\n",
    "prediction = class_labels[predicted_class_index]\n",
    "\n",
    "print(f\"Predicted class: {prediction}\")"
   ]
  },
  {
   "cell_type": "code",
   "execution_count": 429,
   "id": "2e798dc2-9c88-483b-8b7a-c785dc82dee4",
   "metadata": {},
   "outputs": [],
   "source": [
    "import numpy as np\n",
    "from sklearn.metrics import confusion_matrix, classification_report, f1_score, precision_score, recall_score\n",
    "import seaborn as sns\n"
   ]
  },
  {
   "cell_type": "code",
   "execution_count": 430,
   "id": "5eca4756-35a3-4e25-a991-ecb162352efb",
   "metadata": {},
   "outputs": [
    {
     "name": "stdout",
     "output_type": "stream",
     "text": [
      "\u001b[1m2/2\u001b[0m \u001b[32m━━━━━━━━━━━━━━━━━━━━\u001b[0m\u001b[37m\u001b[0m \u001b[1m0s\u001b[0m 94ms/step \n",
      "[1, 0, 1, 1, 1, 1, 1, 1, 1, 1, 1, 1, 0, 0, 0, 1, 1, 0, 0, 1, 0, 0, 1, 1, 1, 1, 0, 1, 1, 0, 1, 1, 1, 0, 1, 0, 1, 1, 0, 1, 1, 1, 1, 1]\n"
     ]
    }
   ],
   "source": [
    "true_labels = test_set.classes\n",
    "predictions = cnn.predict(test_set)\n",
    "predicted_labels = [1 if pred >= 0.5 else 0 for pred in predictions.flatten()]\n",
    "\n",
    "print(predicted_labels)\n"
   ]
  },
  {
   "cell_type": "code",
   "execution_count": 431,
   "id": "974565b3-b14a-4c5f-8792-8fa401823b71",
   "metadata": {},
   "outputs": [
    {
     "name": "stdout",
     "output_type": "stream",
     "text": [
      "Confusion Matrix:\n",
      " [[ 6 13]\n",
      " [ 7 18]]\n",
      "\n",
      "Classification Report:\n",
      "                  precision    recall  f1-score   support\n",
      "\n",
      "  Defect_images       0.46      0.32      0.38        19\n",
      "NODefect_images       0.58      0.72      0.64        25\n",
      "\n",
      "       accuracy                           0.55        44\n",
      "      macro avg       0.52      0.52      0.51        44\n",
      "   weighted avg       0.53      0.55      0.53        44\n",
      "\n",
      "\n",
      "F1 Score: 0.53\n",
      "Precision: 0.53\n",
      "Recall: 0.55\n"
     ]
    },
    {
     "data": {
      "image/png": "[encoded data removed]",
      "text/plain": [
       "<Figure size 640x480 with 2 Axes>"
      ]
     },
     "metadata": {},
     "output_type": "display_data"
    }
   ],
   "source": [
    "\n",
    "cm = confusion_matrix(true_labels, predicted_labels)\n",
    "sns.heatmap(cm,annot=True,xticklabels=['Defect','No Defect'],yticklabels=['Defect','No Defect'],cmap=\"crest\")\n",
    "report = classification_report(true_labels, predicted_labels, target_names=train_set.class_indices.keys())\n",
    "\n",
    "f1 = f1_score(true_labels, predicted_labels, average='weighted')\n",
    "precision = precision_score(true_labels, predicted_labels, average='weighted')\n",
    "recall = recall_score(true_labels, predicted_labels, average='weighted')\n",
    "\n",
    "print(\"Confusion Matrix:\\n\", cm)\n",
    "print(\"\\nClassification Report:\\n\", report)\n",
    "print(f\"\\nF1 Score: {f1:.2f}\")\n",
    "print(f\"Precision: {precision:.2f}\")\n",
    "print(f\"Recall: {recall:.2f}\")\n"
   ]
  },
  {
   "cell_type": "code",
   "execution_count": null,
   "id": "b6bf659e-3f54-47b7-a980-04bcfcdc40e0",
   "metadata": {},
   "outputs": [],
   "source": []
  },
  {
   "cell_type": "code",
   "execution_count": null,
   "id": "d45cc229-bbcf-4710-96e7-1fbef25176b6",
   "metadata": {},
   "outputs": [],
   "source": []
  }
 ],
 "metadata": {
  "kernelspec": {
   "display_name": "Python 3 (ipykernel)",
   "language": "python",
   "name": "python3"
  },
  "language_info": {
   "codemirror_mode": {
    "name": "ipython",
    "version": 3
   },
   "file_extension": ".py",
   "mimetype": "text/x-python",
   "name": "python",
   "nbconvert_exporter": "python",
   "pygments_lexer": "ipython3",
   "version": "3.12.3"
  }
 },
 "nbformat": 4,
 "nbformat_minor": 5
}
